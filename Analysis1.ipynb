{
    "metadata": {
        "kernelspec": {
            "name": "python3",
            "display_name": "Python 3",
            "language": "python"
        },
        "language_info": {
            "name": "python",
            "version": "3.8.10",
            "mimetype": "text/x-python",
            "codemirror_mode": {
                "name": "ipython",
                "version": 3
            },
            "pygments_lexer": "ipython3",
            "nbconvert_exporter": "python",
            "file_extension": ".py"
        }
    },
    "nbformat_minor": 2,
    "nbformat": 4,
    "cells": [
        {
            "cell_type": "markdown",
            "source": [
                "We will use Azure Database in this analysis"
            ],
            "metadata": {
                "azdata_cell_guid": "38fd6077-56ac-48a8-8bd3-0ac1aa551f42"
            }
        },
        {
            "cell_type": "code",
            "source": [
                "SELECT * FROM sys.tables"
            ],
            "metadata": {
                "azdata_cell_guid": "01f60dee-3c22-427c-ad5c-13e64d0bdf07"
            },
            "outputs": [
                {
                    "output_type": "display_data",
                    "data": {
                        "text/html": "(10 rows affected)"
                    },
                    "metadata": {}
                },
                {
                    "output_type": "display_data",
                    "data": {
                        "text/html": "Total execution time: 00:00:00.413"
                    },
                    "metadata": {}
                },
                {
                    "output_type": "execute_result",
                    "metadata": {},
                    "execution_count": 2,
                    "data": {
                        "application/vnd.dataresource+json": {
                            "schema": {
                                "fields": [
                                    {
                                        "name": "name"
                                    },
                                    {
                                        "name": "object_id"
                                    },
                                    {
                                        "name": "principal_id"
                                    },
                                    {
                                        "name": "schema_id"
                                    },
                                    {
                                        "name": "parent_object_id"
                                    },
                                    {
                                        "name": "type"
                                    },
                                    {
                                        "name": "type_desc"
                                    },
                                    {
                                        "name": "create_date"
                                    },
                                    {
                                        "name": "modify_date"
                                    },
                                    {
                                        "name": "is_ms_shipped"
                                    },
                                    {
                                        "name": "is_published"
                                    },
                                    {
                                        "name": "is_schema_published"
                                    },
                                    {
                                        "name": "lob_data_space_id"
                                    },
                                    {
                                        "name": "filestream_data_space_id"
                                    },
                                    {
                                        "name": "max_column_id_used"
                                    },
                                    {
                                        "name": "lock_on_bulk_load"
                                    },
                                    {
                                        "name": "uses_ansi_nulls"
                                    },
                                    {
                                        "name": "is_replicated"
                                    },
                                    {
                                        "name": "has_replication_filter"
                                    },
                                    {
                                        "name": "is_merge_published"
                                    },
                                    {
                                        "name": "is_sync_tran_subscribed"
                                    },
                                    {
                                        "name": "has_unchecked_assembly_data"
                                    },
                                    {
                                        "name": "text_in_row_limit"
                                    },
                                    {
                                        "name": "large_value_types_out_of_row"
                                    },
                                    {
                                        "name": "is_tracked_by_cdc"
                                    },
                                    {
                                        "name": "lock_escalation"
                                    },
                                    {
                                        "name": "lock_escalation_desc"
                                    },
                                    {
                                        "name": "is_filetable"
                                    },
                                    {
                                        "name": "is_memory_optimized"
                                    },
                                    {
                                        "name": "durability"
                                    },
                                    {
                                        "name": "durability_desc"
                                    },
                                    {
                                        "name": "temporal_type"
                                    },
                                    {
                                        "name": "temporal_type_desc"
                                    },
                                    {
                                        "name": "history_table_id"
                                    },
                                    {
                                        "name": "is_remote_data_archive_enabled"
                                    },
                                    {
                                        "name": "is_external"
                                    },
                                    {
                                        "name": "history_retention_period"
                                    },
                                    {
                                        "name": "history_retention_period_unit"
                                    },
                                    {
                                        "name": "history_retention_period_unit_desc"
                                    },
                                    {
                                        "name": "is_node"
                                    },
                                    {
                                        "name": "is_edge"
                                    },
                                    {
                                        "name": "data_retention_period"
                                    },
                                    {
                                        "name": "data_retention_period_unit"
                                    },
                                    {
                                        "name": "data_retention_period_unit_desc"
                                    },
                                    {
                                        "name": "ledger_type"
                                    },
                                    {
                                        "name": "ledger_type_desc"
                                    },
                                    {
                                        "name": "ledger_view_id"
                                    },
                                    {
                                        "name": "is_dropped_ledger_table"
                                    }
                                ]
                            },
                            "data": [
                                {
                                    "0": "SQL_query_table",
                                    "1": "110623437",
                                    "2": "NULL",
                                    "3": "1",
                                    "4": "0",
                                    "5": "U ",
                                    "6": "USER_TABLE",
                                    "7": "2021-07-15 15:10:54.200",
                                    "8": "2021-07-15 15:10:54.200",
                                    "9": "0",
                                    "10": "0",
                                    "11": "0",
                                    "12": "0",
                                    "13": "NULL",
                                    "14": "2",
                                    "15": "0",
                                    "16": "1",
                                    "17": "0",
                                    "18": "0",
                                    "19": "0",
                                    "20": "0",
                                    "21": "0",
                                    "22": "0",
                                    "23": "0",
                                    "24": "0",
                                    "25": "0",
                                    "26": "TABLE",
                                    "27": "0",
                                    "28": "0",
                                    "29": "0",
                                    "30": "SCHEMA_AND_DATA",
                                    "31": "0",
                                    "32": "NON_TEMPORAL_TABLE",
                                    "33": "NULL",
                                    "34": "0",
                                    "35": "0",
                                    "36": "NULL",
                                    "37": "NULL",
                                    "38": "NULL",
                                    "39": "0",
                                    "40": "0",
                                    "41": "-1",
                                    "42": "-1",
                                    "43": "INFINITE",
                                    "44": "0",
                                    "45": "NON_LEDGER_TABLE",
                                    "46": "NULL",
                                    "47": "0"
                                },
                                {
                                    "0": "TableQeury",
                                    "1": "1298103665",
                                    "2": "NULL",
                                    "3": "1",
                                    "4": "0",
                                    "5": "U ",
                                    "6": "USER_TABLE",
                                    "7": "2021-04-20 15:42:43.610",
                                    "8": "2021-04-20 15:42:43.610",
                                    "9": "0",
                                    "10": "0",
                                    "11": "0",
                                    "12": "0",
                                    "13": "NULL",
                                    "14": "4",
                                    "15": "0",
                                    "16": "1",
                                    "17": "0",
                                    "18": "0",
                                    "19": "0",
                                    "20": "0",
                                    "21": "0",
                                    "22": "0",
                                    "23": "0",
                                    "24": "0",
                                    "25": "0",
                                    "26": "TABLE",
                                    "27": "0",
                                    "28": "0",
                                    "29": "0",
                                    "30": "SCHEMA_AND_DATA",
                                    "31": "0",
                                    "32": "NON_TEMPORAL_TABLE",
                                    "33": "NULL",
                                    "34": "0",
                                    "35": "0",
                                    "36": "NULL",
                                    "37": "NULL",
                                    "38": "NULL",
                                    "39": "0",
                                    "40": "0",
                                    "41": "-1",
                                    "42": "-1",
                                    "43": "INFINITE",
                                    "44": "0",
                                    "45": "NON_LEDGER_TABLE",
                                    "46": "NULL",
                                    "47": "0"
                                },
                                {
                                    "0": "test123",
                                    "1": "1301579675",
                                    "2": "NULL",
                                    "3": "1",
                                    "4": "0",
                                    "5": "U ",
                                    "6": "USER_TABLE",
                                    "7": "2020-05-31 17:57:24.460",
                                    "8": "2020-05-31 17:57:24.460",
                                    "9": "0",
                                    "10": "0",
                                    "11": "0",
                                    "12": "0",
                                    "13": "NULL",
                                    "14": "4",
                                    "15": "0",
                                    "16": "1",
                                    "17": "0",
                                    "18": "0",
                                    "19": "0",
                                    "20": "0",
                                    "21": "0",
                                    "22": "0",
                                    "23": "0",
                                    "24": "0",
                                    "25": "0",
                                    "26": "TABLE",
                                    "27": "0",
                                    "28": "0",
                                    "29": "0",
                                    "30": "SCHEMA_AND_DATA",
                                    "31": "0",
                                    "32": "NON_TEMPORAL_TABLE",
                                    "33": "NULL",
                                    "34": "0",
                                    "35": "0",
                                    "36": "NULL",
                                    "37": "NULL",
                                    "38": "NULL",
                                    "39": "0",
                                    "40": "0",
                                    "41": "-1",
                                    "42": "-1",
                                    "43": "INFINITE",
                                    "44": "0",
                                    "45": "NON_LEDGER_TABLE",
                                    "46": "NULL",
                                    "47": "0"
                                },
                                {
                                    "0": "SQL",
                                    "1": "1314103722",
                                    "2": "NULL",
                                    "3": "1",
                                    "4": "0",
                                    "5": "U ",
                                    "6": "USER_TABLE",
                                    "7": "2021-04-20 15:42:43.633",
                                    "8": "2021-04-20 15:42:43.633",
                                    "9": "0",
                                    "10": "0",
                                    "11": "0",
                                    "12": "1",
                                    "13": "NULL",
                                    "14": "2",
                                    "15": "0",
                                    "16": "1",
                                    "17": "0",
                                    "18": "0",
                                    "19": "0",
                                    "20": "0",
                                    "21": "0",
                                    "22": "0",
                                    "23": "0",
                                    "24": "0",
                                    "25": "0",
                                    "26": "TABLE",
                                    "27": "0",
                                    "28": "0",
                                    "29": "0",
                                    "30": "SCHEMA_AND_DATA",
                                    "31": "0",
                                    "32": "NON_TEMPORAL_TABLE",
                                    "33": "NULL",
                                    "34": "0",
                                    "35": "0",
                                    "36": "NULL",
                                    "37": "NULL",
                                    "38": "NULL",
                                    "39": "0",
                                    "40": "0",
                                    "41": "-1",
                                    "42": "-1",
                                    "43": "INFINITE",
                                    "44": "0",
                                    "45": "NON_LEDGER_TABLE",
                                    "46": "NULL",
                                    "47": "0"
                                },
                                {
                                    "0": "QueryByRow",
                                    "1": "1330103779",
                                    "2": "NULL",
                                    "3": "1",
                                    "4": "0",
                                    "5": "U ",
                                    "6": "USER_TABLE",
                                    "7": "2021-04-20 15:42:43.763",
                                    "8": "2021-04-20 15:42:43.763",
                                    "9": "0",
                                    "10": "0",
                                    "11": "0",
                                    "12": "1",
                                    "13": "NULL",
                                    "14": "5",
                                    "15": "0",
                                    "16": "1",
                                    "17": "0",
                                    "18": "0",
                                    "19": "0",
                                    "20": "0",
                                    "21": "0",
                                    "22": "0",
                                    "23": "0",
                                    "24": "0",
                                    "25": "0",
                                    "26": "TABLE",
                                    "27": "0",
                                    "28": "0",
                                    "29": "0",
                                    "30": "SCHEMA_AND_DATA",
                                    "31": "0",
                                    "32": "NON_TEMPORAL_TABLE",
                                    "33": "NULL",
                                    "34": "0",
                                    "35": "0",
                                    "36": "NULL",
                                    "37": "NULL",
                                    "38": "NULL",
                                    "39": "0",
                                    "40": "0",
                                    "41": "-1",
                                    "42": "-1",
                                    "43": "INFINITE",
                                    "44": "0",
                                    "45": "NON_LEDGER_TABLE",
                                    "46": "NULL",
                                    "47": "0"
                                },
                                {
                                    "0": "TW_2",
                                    "1": "1381579960",
                                    "2": "NULL",
                                    "3": "1",
                                    "4": "0",
                                    "5": "U ",
                                    "6": "USER_TABLE",
                                    "7": "2020-06-02 19:38:13.453",
                                    "8": "2020-06-02 19:38:13.453",
                                    "9": "0",
                                    "10": "0",
                                    "11": "0",
                                    "12": "0",
                                    "13": "NULL",
                                    "14": "4",
                                    "15": "0",
                                    "16": "1",
                                    "17": "0",
                                    "18": "0",
                                    "19": "0",
                                    "20": "0",
                                    "21": "0",
                                    "22": "0",
                                    "23": "0",
                                    "24": "0",
                                    "25": "0",
                                    "26": "TABLE",
                                    "27": "0",
                                    "28": "0",
                                    "29": "0",
                                    "30": "SCHEMA_AND_DATA",
                                    "31": "0",
                                    "32": "NON_TEMPORAL_TABLE",
                                    "33": "NULL",
                                    "34": "0",
                                    "35": "0",
                                    "36": "NULL",
                                    "37": "NULL",
                                    "38": "NULL",
                                    "39": "0",
                                    "40": "0",
                                    "41": "-1",
                                    "42": "-1",
                                    "43": "INFINITE",
                                    "44": "0",
                                    "45": "NON_LEDGER_TABLE",
                                    "46": "NULL",
                                    "47": "0"
                                },
                                {
                                    "0": "siteName",
                                    "1": "1397580017",
                                    "2": "NULL",
                                    "3": "1",
                                    "4": "0",
                                    "5": "U ",
                                    "6": "USER_TABLE",
                                    "7": "2020-06-03 18:57:03.937",
                                    "8": "2020-06-03 18:57:03.937",
                                    "9": "0",
                                    "10": "0",
                                    "11": "0",
                                    "12": "0",
                                    "13": "NULL",
                                    "14": "4",
                                    "15": "0",
                                    "16": "1",
                                    "17": "0",
                                    "18": "0",
                                    "19": "0",
                                    "20": "0",
                                    "21": "0",
                                    "22": "0",
                                    "23": "0",
                                    "24": "0",
                                    "25": "0",
                                    "26": "TABLE",
                                    "27": "0",
                                    "28": "0",
                                    "29": "0",
                                    "30": "SCHEMA_AND_DATA",
                                    "31": "0",
                                    "32": "NON_TEMPORAL_TABLE",
                                    "33": "NULL",
                                    "34": "0",
                                    "35": "0",
                                    "36": "NULL",
                                    "37": "NULL",
                                    "38": "NULL",
                                    "39": "0",
                                    "40": "0",
                                    "41": "-1",
                                    "42": "-1",
                                    "43": "INFINITE",
                                    "44": "0",
                                    "45": "NON_LEDGER_TABLE",
                                    "46": "NULL",
                                    "47": "0"
                                },
                                {
                                    "0": "sites",
                                    "1": "1445580188",
                                    "2": "NULL",
                                    "3": "1",
                                    "4": "0",
                                    "5": "U ",
                                    "6": "USER_TABLE",
                                    "7": "2020-06-03 19:10:43.337",
                                    "8": "2020-06-03 19:10:43.337",
                                    "9": "0",
                                    "10": "0",
                                    "11": "0",
                                    "12": "0",
                                    "13": "NULL",
                                    "14": "3",
                                    "15": "0",
                                    "16": "1",
                                    "17": "0",
                                    "18": "0",
                                    "19": "0",
                                    "20": "0",
                                    "21": "0",
                                    "22": "0",
                                    "23": "0",
                                    "24": "0",
                                    "25": "0",
                                    "26": "TABLE",
                                    "27": "0",
                                    "28": "0",
                                    "29": "0",
                                    "30": "SCHEMA_AND_DATA",
                                    "31": "0",
                                    "32": "NON_TEMPORAL_TABLE",
                                    "33": "NULL",
                                    "34": "0",
                                    "35": "0",
                                    "36": "NULL",
                                    "37": "NULL",
                                    "38": "NULL",
                                    "39": "0",
                                    "40": "0",
                                    "41": "-1",
                                    "42": "-1",
                                    "43": "INFINITE",
                                    "44": "0",
                                    "45": "NON_LEDGER_TABLE",
                                    "46": "NULL",
                                    "47": "0"
                                },
                                {
                                    "0": "Departments",
                                    "1": "1954106002",
                                    "2": "NULL",
                                    "3": "1",
                                    "4": "0",
                                    "5": "U ",
                                    "6": "USER_TABLE",
                                    "7": "2021-06-03 19:28:16.993",
                                    "8": "2021-06-03 19:28:16.993",
                                    "9": "0",
                                    "10": "0",
                                    "11": "0",
                                    "12": "0",
                                    "13": "NULL",
                                    "14": "2",
                                    "15": "0",
                                    "16": "1",
                                    "17": "0",
                                    "18": "0",
                                    "19": "0",
                                    "20": "0",
                                    "21": "0",
                                    "22": "0",
                                    "23": "0",
                                    "24": "0",
                                    "25": "0",
                                    "26": "TABLE",
                                    "27": "0",
                                    "28": "0",
                                    "29": "0",
                                    "30": "SCHEMA_AND_DATA",
                                    "31": "0",
                                    "32": "NON_TEMPORAL_TABLE",
                                    "33": "NULL",
                                    "34": "0",
                                    "35": "0",
                                    "36": "NULL",
                                    "37": "NULL",
                                    "38": "NULL",
                                    "39": "0",
                                    "40": "0",
                                    "41": "-1",
                                    "42": "-1",
                                    "43": "INFINITE",
                                    "44": "0",
                                    "45": "NON_LEDGER_TABLE",
                                    "46": "NULL",
                                    "47": "0"
                                },
                                {
                                    "0": "Students",
                                    "1": "1970106059",
                                    "2": "NULL",
                                    "3": "1",
                                    "4": "0",
                                    "5": "U ",
                                    "6": "USER_TABLE",
                                    "7": "2021-06-03 19:28:17.100",
                                    "8": "2021-06-03 19:28:17.100",
                                    "9": "0",
                                    "10": "0",
                                    "11": "0",
                                    "12": "0",
                                    "13": "NULL",
                                    "14": "5",
                                    "15": "0",
                                    "16": "1",
                                    "17": "0",
                                    "18": "0",
                                    "19": "0",
                                    "20": "0",
                                    "21": "0",
                                    "22": "0",
                                    "23": "0",
                                    "24": "0",
                                    "25": "0",
                                    "26": "TABLE",
                                    "27": "0",
                                    "28": "0",
                                    "29": "0",
                                    "30": "SCHEMA_AND_DATA",
                                    "31": "0",
                                    "32": "NON_TEMPORAL_TABLE",
                                    "33": "NULL",
                                    "34": "0",
                                    "35": "0",
                                    "36": "NULL",
                                    "37": "NULL",
                                    "38": "NULL",
                                    "39": "0",
                                    "40": "0",
                                    "41": "-1",
                                    "42": "-1",
                                    "43": "INFINITE",
                                    "44": "0",
                                    "45": "NON_LEDGER_TABLE",
                                    "46": "NULL",
                                    "47": "0"
                                }
                            ]
                        },
                        "text/html": [
                            "<table>",
                            "<tr><th>name</th><th>object_id</th><th>principal_id</th><th>schema_id</th><th>parent_object_id</th><th>type</th><th>type_desc</th><th>create_date</th><th>modify_date</th><th>is_ms_shipped</th><th>is_published</th><th>is_schema_published</th><th>lob_data_space_id</th><th>filestream_data_space_id</th><th>max_column_id_used</th><th>lock_on_bulk_load</th><th>uses_ansi_nulls</th><th>is_replicated</th><th>has_replication_filter</th><th>is_merge_published</th><th>is_sync_tran_subscribed</th><th>has_unchecked_assembly_data</th><th>text_in_row_limit</th><th>large_value_types_out_of_row</th><th>is_tracked_by_cdc</th><th>lock_escalation</th><th>lock_escalation_desc</th><th>is_filetable</th><th>is_memory_optimized</th><th>durability</th><th>durability_desc</th><th>temporal_type</th><th>temporal_type_desc</th><th>history_table_id</th><th>is_remote_data_archive_enabled</th><th>is_external</th><th>history_retention_period</th><th>history_retention_period_unit</th><th>history_retention_period_unit_desc</th><th>is_node</th><th>is_edge</th><th>data_retention_period</th><th>data_retention_period_unit</th><th>data_retention_period_unit_desc</th><th>ledger_type</th><th>ledger_type_desc</th><th>ledger_view_id</th><th>is_dropped_ledger_table</th></tr>",
                            "<tr><td>SQL_query_table</td><td>110623437</td><td>NULL</td><td>1</td><td>0</td><td>U </td><td>USER_TABLE</td><td>2021-07-15 15:10:54.200</td><td>2021-07-15 15:10:54.200</td><td>0</td><td>0</td><td>0</td><td>0</td><td>NULL</td><td>2</td><td>0</td><td>1</td><td>0</td><td>0</td><td>0</td><td>0</td><td>0</td><td>0</td><td>0</td><td>0</td><td>0</td><td>TABLE</td><td>0</td><td>0</td><td>0</td><td>SCHEMA_AND_DATA</td><td>0</td><td>NON_TEMPORAL_TABLE</td><td>NULL</td><td>0</td><td>0</td><td>NULL</td><td>NULL</td><td>NULL</td><td>0</td><td>0</td><td>-1</td><td>-1</td><td>INFINITE</td><td>0</td><td>NON_LEDGER_TABLE</td><td>NULL</td><td>0</td></tr>",
                            "<tr><td>TableQeury</td><td>1298103665</td><td>NULL</td><td>1</td><td>0</td><td>U </td><td>USER_TABLE</td><td>2021-04-20 15:42:43.610</td><td>2021-04-20 15:42:43.610</td><td>0</td><td>0</td><td>0</td><td>0</td><td>NULL</td><td>4</td><td>0</td><td>1</td><td>0</td><td>0</td><td>0</td><td>0</td><td>0</td><td>0</td><td>0</td><td>0</td><td>0</td><td>TABLE</td><td>0</td><td>0</td><td>0</td><td>SCHEMA_AND_DATA</td><td>0</td><td>NON_TEMPORAL_TABLE</td><td>NULL</td><td>0</td><td>0</td><td>NULL</td><td>NULL</td><td>NULL</td><td>0</td><td>0</td><td>-1</td><td>-1</td><td>INFINITE</td><td>0</td><td>NON_LEDGER_TABLE</td><td>NULL</td><td>0</td></tr>",
                            "<tr><td>test123</td><td>1301579675</td><td>NULL</td><td>1</td><td>0</td><td>U </td><td>USER_TABLE</td><td>2020-05-31 17:57:24.460</td><td>2020-05-31 17:57:24.460</td><td>0</td><td>0</td><td>0</td><td>0</td><td>NULL</td><td>4</td><td>0</td><td>1</td><td>0</td><td>0</td><td>0</td><td>0</td><td>0</td><td>0</td><td>0</td><td>0</td><td>0</td><td>TABLE</td><td>0</td><td>0</td><td>0</td><td>SCHEMA_AND_DATA</td><td>0</td><td>NON_TEMPORAL_TABLE</td><td>NULL</td><td>0</td><td>0</td><td>NULL</td><td>NULL</td><td>NULL</td><td>0</td><td>0</td><td>-1</td><td>-1</td><td>INFINITE</td><td>0</td><td>NON_LEDGER_TABLE</td><td>NULL</td><td>0</td></tr>",
                            "<tr><td>SQL</td><td>1314103722</td><td>NULL</td><td>1</td><td>0</td><td>U </td><td>USER_TABLE</td><td>2021-04-20 15:42:43.633</td><td>2021-04-20 15:42:43.633</td><td>0</td><td>0</td><td>0</td><td>1</td><td>NULL</td><td>2</td><td>0</td><td>1</td><td>0</td><td>0</td><td>0</td><td>0</td><td>0</td><td>0</td><td>0</td><td>0</td><td>0</td><td>TABLE</td><td>0</td><td>0</td><td>0</td><td>SCHEMA_AND_DATA</td><td>0</td><td>NON_TEMPORAL_TABLE</td><td>NULL</td><td>0</td><td>0</td><td>NULL</td><td>NULL</td><td>NULL</td><td>0</td><td>0</td><td>-1</td><td>-1</td><td>INFINITE</td><td>0</td><td>NON_LEDGER_TABLE</td><td>NULL</td><td>0</td></tr>",
                            "<tr><td>QueryByRow</td><td>1330103779</td><td>NULL</td><td>1</td><td>0</td><td>U </td><td>USER_TABLE</td><td>2021-04-20 15:42:43.763</td><td>2021-04-20 15:42:43.763</td><td>0</td><td>0</td><td>0</td><td>1</td><td>NULL</td><td>5</td><td>0</td><td>1</td><td>0</td><td>0</td><td>0</td><td>0</td><td>0</td><td>0</td><td>0</td><td>0</td><td>0</td><td>TABLE</td><td>0</td><td>0</td><td>0</td><td>SCHEMA_AND_DATA</td><td>0</td><td>NON_TEMPORAL_TABLE</td><td>NULL</td><td>0</td><td>0</td><td>NULL</td><td>NULL</td><td>NULL</td><td>0</td><td>0</td><td>-1</td><td>-1</td><td>INFINITE</td><td>0</td><td>NON_LEDGER_TABLE</td><td>NULL</td><td>0</td></tr>",
                            "<tr><td>TW_2</td><td>1381579960</td><td>NULL</td><td>1</td><td>0</td><td>U </td><td>USER_TABLE</td><td>2020-06-02 19:38:13.453</td><td>2020-06-02 19:38:13.453</td><td>0</td><td>0</td><td>0</td><td>0</td><td>NULL</td><td>4</td><td>0</td><td>1</td><td>0</td><td>0</td><td>0</td><td>0</td><td>0</td><td>0</td><td>0</td><td>0</td><td>0</td><td>TABLE</td><td>0</td><td>0</td><td>0</td><td>SCHEMA_AND_DATA</td><td>0</td><td>NON_TEMPORAL_TABLE</td><td>NULL</td><td>0</td><td>0</td><td>NULL</td><td>NULL</td><td>NULL</td><td>0</td><td>0</td><td>-1</td><td>-1</td><td>INFINITE</td><td>0</td><td>NON_LEDGER_TABLE</td><td>NULL</td><td>0</td></tr>",
                            "<tr><td>siteName</td><td>1397580017</td><td>NULL</td><td>1</td><td>0</td><td>U </td><td>USER_TABLE</td><td>2020-06-03 18:57:03.937</td><td>2020-06-03 18:57:03.937</td><td>0</td><td>0</td><td>0</td><td>0</td><td>NULL</td><td>4</td><td>0</td><td>1</td><td>0</td><td>0</td><td>0</td><td>0</td><td>0</td><td>0</td><td>0</td><td>0</td><td>0</td><td>TABLE</td><td>0</td><td>0</td><td>0</td><td>SCHEMA_AND_DATA</td><td>0</td><td>NON_TEMPORAL_TABLE</td><td>NULL</td><td>0</td><td>0</td><td>NULL</td><td>NULL</td><td>NULL</td><td>0</td><td>0</td><td>-1</td><td>-1</td><td>INFINITE</td><td>0</td><td>NON_LEDGER_TABLE</td><td>NULL</td><td>0</td></tr>",
                            "<tr><td>sites</td><td>1445580188</td><td>NULL</td><td>1</td><td>0</td><td>U </td><td>USER_TABLE</td><td>2020-06-03 19:10:43.337</td><td>2020-06-03 19:10:43.337</td><td>0</td><td>0</td><td>0</td><td>0</td><td>NULL</td><td>3</td><td>0</td><td>1</td><td>0</td><td>0</td><td>0</td><td>0</td><td>0</td><td>0</td><td>0</td><td>0</td><td>0</td><td>TABLE</td><td>0</td><td>0</td><td>0</td><td>SCHEMA_AND_DATA</td><td>0</td><td>NON_TEMPORAL_TABLE</td><td>NULL</td><td>0</td><td>0</td><td>NULL</td><td>NULL</td><td>NULL</td><td>0</td><td>0</td><td>-1</td><td>-1</td><td>INFINITE</td><td>0</td><td>NON_LEDGER_TABLE</td><td>NULL</td><td>0</td></tr>",
                            "<tr><td>Departments</td><td>1954106002</td><td>NULL</td><td>1</td><td>0</td><td>U </td><td>USER_TABLE</td><td>2021-06-03 19:28:16.993</td><td>2021-06-03 19:28:16.993</td><td>0</td><td>0</td><td>0</td><td>0</td><td>NULL</td><td>2</td><td>0</td><td>1</td><td>0</td><td>0</td><td>0</td><td>0</td><td>0</td><td>0</td><td>0</td><td>0</td><td>0</td><td>TABLE</td><td>0</td><td>0</td><td>0</td><td>SCHEMA_AND_DATA</td><td>0</td><td>NON_TEMPORAL_TABLE</td><td>NULL</td><td>0</td><td>0</td><td>NULL</td><td>NULL</td><td>NULL</td><td>0</td><td>0</td><td>-1</td><td>-1</td><td>INFINITE</td><td>0</td><td>NON_LEDGER_TABLE</td><td>NULL</td><td>0</td></tr>",
                            "<tr><td>Students</td><td>1970106059</td><td>NULL</td><td>1</td><td>0</td><td>U </td><td>USER_TABLE</td><td>2021-06-03 19:28:17.100</td><td>2021-06-03 19:28:17.100</td><td>0</td><td>0</td><td>0</td><td>0</td><td>NULL</td><td>5</td><td>0</td><td>1</td><td>0</td><td>0</td><td>0</td><td>0</td><td>0</td><td>0</td><td>0</td><td>0</td><td>0</td><td>TABLE</td><td>0</td><td>0</td><td>0</td><td>SCHEMA_AND_DATA</td><td>0</td><td>NON_TEMPORAL_TABLE</td><td>NULL</td><td>0</td><td>0</td><td>NULL</td><td>NULL</td><td>NULL</td><td>0</td><td>0</td><td>-1</td><td>-1</td><td>INFINITE</td><td>0</td><td>NON_LEDGER_TABLE</td><td>NULL</td><td>0</td></tr>",
                            "</table>"
                        ]
                    }
                }
            ],
            "execution_count": 2
        },
        {
            "cell_type": "code",
            "source": [
                "select top 10 * from sitename\n",
                "order by publishedDate desc"
            ],
            "metadata": {
                "azdata_cell_guid": "0bf6f7b1-87af-4f4a-899c-e4c22c0d8988",
                "tags": []
            },
            "outputs": [
                {
                    "output_type": "display_data",
                    "data": {
                        "text/html": "(10 rows affected)"
                    },
                    "metadata": {}
                },
                {
                    "output_type": "display_data",
                    "data": {
                        "text/html": "Total execution time: 00:00:00.177"
                    },
                    "metadata": {}
                },
                {
                    "output_type": "execute_result",
                    "metadata": {},
                    "execution_count": 7,
                    "data": {
                        "application/vnd.dataresource+json": {
                            "schema": {
                                "fields": [
                                    {
                                        "name": "ID"
                                    },
                                    {
                                        "name": "url"
                                    },
                                    {
                                        "name": "title"
                                    },
                                    {
                                        "name": "publishedDate"
                                    }
                                ]
                            },
                            "data": [
                                {
                                    "0": "68555",
                                    "1": "https://www.bbc.co.uk/news/uk-england-northamptonshire-55057671",
                                    "2": "Harry Dunn's parents lose High Court immunity review",
                                    "3": "2020-11-24 10:53:54Z"
                                },
                                {
                                    "0": "68588",
                                    "1": "https://www.rtvslo.si/okolje/svet-zivali/izgubljene-najdene-zivali/izgubljena-zival-sivo-bel-tigrast-muc-zirovnica/543310",
                                    "2": "Izgubljena žival: sivo-bel tigrast muc (Žirovnica)",
                                    "3": "2020-11-24 10:44:53Z"
                                },
                                {
                                    "0": "68561",
                                    "1": "https://www.rtvslo.si/izjava-dneva/drustvo-abstinent/543308",
                                    "2": "Društvo Abstinent",
                                    "3": "2020-11-24 10:43:22Z"
                                },
                                {
                                    "0": "68599",
                                    "1": "https://www.bbc.co.uk/sport/formula1/55055452",
                                    "2": "Hamilton deserves a knighthood - Murray",
                                    "3": "2020-11-24 10:29:14Z"
                                },
                                {
                                    "0": "68614",
                                    "1": "https://www.bbc.co.uk/sport/55055680",
                                    "2": "Return of fans 'something to celebrate' but 'work to do' - EFL chair Parry",
                                    "3": "2020-11-24 10:09:56Z"
                                },
                                {
                                    "0": "68564",
                                    "1": "https://www.rtvslo.si/evropska-unija/hrvaska-za-popotresno-obnovo-prejela-skoraj-700-milijonov-evrov/543307",
                                    "2": "Hrvaška za popotresno obnovo prejela skoraj 700 milijonov evrov ",
                                    "3": "2020-11-24 10:07:56Z"
                                },
                                {
                                    "0": "68595",
                                    "1": "https://www.rtvslo.si/okolje/2-3-milijona-eu-sredstev-za-obnovo-mokrotnih-habitatov-ob-reki-muri/543306",
                                    "2": "2,3 milijona EU sredstev za obnovo mokrotnih habitatov ob reki Muri",
                                    "3": "2020-11-24 10:04:26Z"
                                },
                                {
                                    "0": "68554",
                                    "1": "https://www.bbc.co.uk/news/newsbeat-55055619",
                                    "2": "MOBOs 2020: 'More important than ever to showcase black culture'",
                                    "3": "2020-11-24 09:58:36Z"
                                },
                                {
                                    "0": "68587",
                                    "1": "https://www.bbc.co.uk/news/uk-55052381",
                                    "2": "Covid-19: England arrivals to be able to cut quarantine with private test",
                                    "3": "2020-11-24 09:51:30Z"
                                },
                                {
                                    "0": "68581",
                                    "1": "https://www.rtvslo.si/kultura/vizualna-umetnost/narodna-galerija-klice-na-pomoc-lastnike-del-hinka-smrekarja/543305",
                                    "2": "Narodna galerija klice na pomoc lastnike del Hinka Smrekarja",
                                    "3": "2020-11-24 09:47:55Z"
                                }
                            ]
                        },
                        "text/html": [
                            "<table>",
                            "<tr><th>ID</th><th>url</th><th>title</th><th>publishedDate</th></tr>",
                            "<tr><td>68555</td><td>https://www.bbc.co.uk/news/uk-england-northamptonshire-55057671</td><td>Harry Dunn's parents lose High Court immunity review</td><td>2020-11-24 10:53:54Z</td></tr>",
                            "<tr><td>68588</td><td>https://www.rtvslo.si/okolje/svet-zivali/izgubljene-najdene-zivali/izgubljena-zival-sivo-bel-tigrast-muc-zirovnica/543310</td><td>Izgubljena žival: sivo-bel tigrast muc (Žirovnica)</td><td>2020-11-24 10:44:53Z</td></tr>",
                            "<tr><td>68561</td><td>https://www.rtvslo.si/izjava-dneva/drustvo-abstinent/543308</td><td>Društvo Abstinent</td><td>2020-11-24 10:43:22Z</td></tr>",
                            "<tr><td>68599</td><td>https://www.bbc.co.uk/sport/formula1/55055452</td><td>Hamilton deserves a knighthood - Murray</td><td>2020-11-24 10:29:14Z</td></tr>",
                            "<tr><td>68614</td><td>https://www.bbc.co.uk/sport/55055680</td><td>Return of fans 'something to celebrate' but 'work to do' - EFL chair Parry</td><td>2020-11-24 10:09:56Z</td></tr>",
                            "<tr><td>68564</td><td>https://www.rtvslo.si/evropska-unija/hrvaska-za-popotresno-obnovo-prejela-skoraj-700-milijonov-evrov/543307</td><td>Hrvaška za popotresno obnovo prejela skoraj 700 milijonov evrov </td><td>2020-11-24 10:07:56Z</td></tr>",
                            "<tr><td>68595</td><td>https://www.rtvslo.si/okolje/2-3-milijona-eu-sredstev-za-obnovo-mokrotnih-habitatov-ob-reki-muri/543306</td><td>2,3 milijona EU sredstev za obnovo mokrotnih habitatov ob reki Muri</td><td>2020-11-24 10:04:26Z</td></tr>",
                            "<tr><td>68554</td><td>https://www.bbc.co.uk/news/newsbeat-55055619</td><td>MOBOs 2020: 'More important than ever to showcase black culture'</td><td>2020-11-24 09:58:36Z</td></tr>",
                            "<tr><td>68587</td><td>https://www.bbc.co.uk/news/uk-55052381</td><td>Covid-19: England arrivals to be able to cut quarantine with private test</td><td>2020-11-24 09:51:30Z</td></tr>",
                            "<tr><td>68581</td><td>https://www.rtvslo.si/kultura/vizualna-umetnost/narodna-galerija-klice-na-pomoc-lastnike-del-hinka-smrekarja/543305</td><td>Narodna galerija klice na pomoc lastnike del Hinka Smrekarja</td><td>2020-11-24 09:47:55Z</td></tr>",
                            "</table>"
                        ]
                    }
                }
            ],
            "execution_count": 7
        },
        {
            "cell_type": "code",
            "source": [
                ""
            ],
            "metadata": {
                "azdata_cell_guid": "6d76cf01-51f9-4c62-84ed-0a8c5f182981",
                "tags": []
            },
            "outputs": [
                {
                    "output_type": "display_data",
                    "data": {
                        "text/html": "Commands completed successfully."
                    },
                    "metadata": {}
                },
                {
                    "output_type": "display_data",
                    "data": {
                        "text/html": "Total execution time: 00:00:00.134"
                    },
                    "metadata": {}
                }
            ],
            "execution_count": 9
        },
        {
            "cell_type": "code",
            "source": [
                "declare @date date = '2020-10-11'\n",
                "select count(*) as nof_news from sitename where cast(publishedDate as date) >= @date"
            ],
            "metadata": {
                "azdata_cell_guid": "507f60e9-3361-4b6b-96ff-4f97207e2576"
            },
            "outputs": [
                {
                    "output_type": "display_data",
                    "data": {
                        "text/html": "(1 row affected)"
                    },
                    "metadata": {}
                },
                {
                    "output_type": "display_data",
                    "data": {
                        "text/html": "Total execution time: 00:00:00.188"
                    },
                    "metadata": {}
                },
                {
                    "output_type": "execute_result",
                    "metadata": {},
                    "execution_count": 12,
                    "data": {
                        "application/vnd.dataresource+json": {
                            "schema": {
                                "fields": [
                                    {
                                        "name": "nof_news"
                                    }
                                ]
                            },
                            "data": [
                                {
                                    "0": "16776"
                                }
                            ]
                        },
                        "text/html": [
                            "<table>",
                            "<tr><th>nof_news</th></tr>",
                            "<tr><td>16776</td></tr>",
                            "</table>"
                        ]
                    }
                }
            ],
            "execution_count": 12
        },
        {
            "cell_type": "code",
            "source": [
                "x = 23\n",
                "y = 44"
            ],
            "metadata": {
                "azdata_cell_guid": "4e716d5f-c4ec-4c2a-bb5c-44e9fd69d2c0",
                "tags": [
                    "parameters"
                ]
            },
            "outputs": [],
            "execution_count": 3
        },
        {
            "cell_type": "code",
            "source": [
                "print(x+y)"
            ],
            "metadata": {
                "azdata_cell_guid": "bd44b6f1-4b3e-4d09-8af6-f1044dbd71eb"
            },
            "outputs": [
                {
                    "name": "stdout",
                    "text": "69\n",
                    "output_type": "stream"
                }
            ],
            "execution_count": 4
        }
    ]
}
